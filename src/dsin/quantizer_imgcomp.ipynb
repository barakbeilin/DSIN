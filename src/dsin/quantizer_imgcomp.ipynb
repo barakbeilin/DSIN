{
 "cells": [
  {
   "cell_type": "code",
   "execution_count": 4,
   "metadata": {},
   "outputs": [],
   "source": [
    "#export\n",
    "import torch"
   ]
  },
  {
   "cell_type": "code",
   "execution_count": 5,
   "metadata": {},
   "outputs": [],
   "source": [
    "#export\n",
    "_HARD_SIGMA = 1e7\n"
   ]
  },
  {
   "cell_type": "code",
   "execution_count": 6,
   "metadata": {},
   "outputs": [],
   "source": [
    "#export\n",
    "def create_centers_variable(config, seed = 666):  # (C, L) or (L,)\n",
    "    assert config.num_centers is not None\n",
    "    minval, maxval = map(int, config.centers_initial_range)\n",
    "    # create a tensor of size with  values drawn from uniform distribution\n",
    "    size = (config.num_centers,)\n",
    "    return  torch.rand(*size, dtype=torch.float32) * (maxval-minval) + minval\n"
   ]
  },
  {
   "cell_type": "code",
   "execution_count": 12,
   "metadata": {},
   "outputs": [
    {
     "name": "stdout",
     "output_type": "stream",
     "text": [
      "tensor([-1.1956,  1.0903, -1.1990,  1.8340, -1.0607])\n"
     ]
    }
   ],
   "source": [
    "# test_create_centers_variable\n",
    "class Foo:\n",
    "    pass\n",
    "\n",
    "config = Foo()\n",
    "config.num_centers = 5\n",
    "config.centers_initial_range= (-2, 2)\n",
    "print(create_centers_variable(config))"
   ]
  },
  {
   "cell_type": "code",
   "execution_count": null,
   "metadata": {},
   "outputs": [],
   "source": [
    "def create_centers_regularization_term(config, centers):\n",
    "    if config.regularization_factor_centers != 0:\n",
    "        reg = tf.to_float(config.regularization_factor_centers)\n",
    "        centers_reg = tf.identity(reg * torch.nn.MSELoss l2_loss(centers), name='l2_regularizer')\n",
    "        return \n",
    "        tf.losses.add_loss(centers_reg, tf.GraphKeys.REGULARIZATION_LOSSES)\n"
   ]
  }
 ],
 "metadata": {
  "kernelspec": {
   "display_name": "Python 3.8.2 64-bit ('torch': conda)",
   "language": "python",
   "name": "python38264bittorchconda5a49bb01e90b47d3b7ca1c7fc4dc1607"
  },
  "language_info": {
   "codemirror_mode": {
    "name": "ipython",
    "version": 3
   },
   "file_extension": ".py",
   "mimetype": "text/x-python",
   "name": "python",
   "nbconvert_exporter": "python",
   "pygments_lexer": "ipython3",
   "version": "3.8.2"
  }
 },
 "nbformat": 4,
 "nbformat_minor": 4
}
